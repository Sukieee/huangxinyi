{
 "cells": [
  {
   "cell_type": "code",
   "execution_count": 1,
   "metadata": {},
   "outputs": [],
   "source": [
    "#打印九九乘法表"
   ]
  },
  {
   "cell_type": "code",
   "execution_count": 2,
   "metadata": {},
   "outputs": [
    {
     "name": "stdout",
     "output_type": "stream",
     "text": [
      "1x1= 1  \n",
      "1x2= 2  2x2= 4  \n",
      "1x3= 3  2x3= 6  3x3= 9  \n",
      "1x4= 4  2x4= 8  3x4=12  4x4=16  \n",
      "1x5= 5  2x5=10  3x5=15  4x5=20  5x5=25  \n",
      "1x6= 6  2x6=12  3x6=18  4x6=24  5x6=30  6x6=36  \n",
      "1x7= 7  2x7=14  3x7=21  4x7=28  5x7=35  6x7=42  7x7=49  \n",
      "1x8= 8  2x8=16  3x8=24  4x8=32  5x8=40  6x8=48  7x8=56  8x8=64  \n",
      "1x9= 9  2x9=18  3x9=27  4x9=36  5x9=45  6x9=54  7x9=63  8x9=72  9x9=81  \n"
     ]
    }
   ],
   "source": [
    "for row in range(1, 10):\n",
    "    for col in range(1, row+1):\n",
    "        print(\"{0}x{1}={2:2}  \".format(col, row, row * col), end=\"\")\n",
    "    print(\"\")"
   ]
  },
  {
   "cell_type": "code",
   "execution_count": null,
   "metadata": {},
   "outputs": [],
   "source": []
  },
  {
   "cell_type": "code",
   "execution_count": 3,
   "metadata": {},
   "outputs": [],
   "source": [
    "#打印2020年日历"
   ]
  },
  {
   "cell_type": "code",
   "execution_count": 24,
   "metadata": {},
   "outputs": [],
   "source": [
    "month = [\"January\", \"February\", \"March\", \"April\", \"May\", \"June\", \"July\", \"August\", \"September\", \"October\", \"November\", \"December\"]"
   ]
  },
  {
   "cell_type": "code",
   "execution_count": 9,
   "metadata": {},
   "outputs": [],
   "source": [
    "date = [\"Mo\",\"Tu\",\"We\",\"Th\",\"Fr\",\"Sa\",\"Su\"]"
   ]
  },
  {
   "cell_type": "code",
   "execution_count": 127,
   "metadata": {},
   "outputs": [],
   "source": [
    "monthlen=[31,29,31,30,31,30,31,31,30,31,30,31]"
   ]
  },
  {
   "cell_type": "code",
   "execution_count": 202,
   "metadata": {
    "scrolled": true
   },
   "outputs": [],
   "source": [
    "month_day = 1\n",
    "starts_weekday = 2\n",
    "last_day = [5,6,2,4,0,2,5,1,3,6,1,4]"
   ]
  },
  {
   "cell_type": "code",
   "execution_count": 204,
   "metadata": {
    "scrolled": true
   },
   "outputs": [
    {
     "name": "stdout",
     "output_type": "stream",
     "text": [
      "       January        \n",
      "Mo Tu We Th Fr Sa Su \n",
      "      457458459460461\n",
      "462463464465466467468\n",
      "469470471472473474475\n",
      "476477478479480481482\n"
     ]
    },
    {
     "ename": "TypeError",
     "evalue": "'list' object cannot be interpreted as an integer",
     "output_type": "error",
     "traceback": [
      "\u001b[1;31m---------------------------------------------------------------------------\u001b[0m",
      "\u001b[1;31mTypeError\u001b[0m                                 Traceback (most recent call last)",
      "\u001b[1;32m<ipython-input-204-0e3a667a3939>\u001b[0m in \u001b[0;36m<module>\u001b[1;34m\u001b[0m\n\u001b[0;32m     25\u001b[0m     \u001b[0mprint\u001b[0m\u001b[1;33m(\u001b[0m\u001b[1;33m)\u001b[0m\u001b[1;33m\u001b[0m\u001b[1;33m\u001b[0m\u001b[0m\n\u001b[0;32m     26\u001b[0m \u001b[1;33m\u001b[0m\u001b[0m\n\u001b[1;32m---> 27\u001b[1;33m     \u001b[1;32mfor\u001b[0m \u001b[0mi\u001b[0m \u001b[1;32min\u001b[0m \u001b[0mrange\u001b[0m\u001b[1;33m(\u001b[0m\u001b[0mlast_day\u001b[0m\u001b[1;33m)\u001b[0m\u001b[1;33m:\u001b[0m\u001b[1;33m\u001b[0m\u001b[1;33m\u001b[0m\u001b[0m\n\u001b[0m\u001b[0;32m     28\u001b[0m         \u001b[0mprint\u001b[0m\u001b[1;33m(\u001b[0m\u001b[0mformat\u001b[0m\u001b[1;33m(\u001b[0m\u001b[0mmonth_day\u001b[0m\u001b[1;33m,\u001b[0m \u001b[1;34m\"3d\"\u001b[0m\u001b[1;33m)\u001b[0m\u001b[1;33m,\u001b[0m \u001b[0mend\u001b[0m\u001b[1;33m=\u001b[0m\u001b[1;34m\"\"\u001b[0m\u001b[1;33m)\u001b[0m\u001b[1;33m\u001b[0m\u001b[1;33m\u001b[0m\u001b[0m\n\u001b[0;32m     29\u001b[0m         \u001b[1;32mif\u001b[0m \u001b[1;33m(\u001b[0m\u001b[0mi\u001b[0m\u001b[1;33m+\u001b[0m\u001b[0mstarts_weekday\u001b[0m\u001b[1;33m)\u001b[0m\u001b[1;33m%\u001b[0m\u001b[1;36m7\u001b[0m\u001b[1;33m==\u001b[0m\u001b[1;36m6\u001b[0m\u001b[1;33m:\u001b[0m\u001b[1;33m\u001b[0m\u001b[1;33m\u001b[0m\u001b[0m\n",
      "\u001b[1;31mTypeError\u001b[0m: 'list' object cannot be interpreted as an integer"
     ]
    }
   ],
   "source": [
    "for i in range(12):\n",
    "    print (month[i].center(22))\n",
    "    for k in date:\n",
    "        print(k, end=\" \")\n",
    "    print()\n",
    "    for i in range(7):\n",
    "        if i < starts_weekday :\n",
    "            print(\"   \", end=\"\")\n",
    "        else:\n",
    "        # Logic for printing one day, moving to next\n",
    "            print(format(month_day,\"3d\"), end=\"\")\n",
    "            month_day += 1\n",
    "    print()\n",
    "    for i in range(7):\n",
    "        print(format(month_day, \"3d\"), end=\"\")\n",
    "        month_day += 1\n",
    "    print()\n",
    "    for i in range(7):\n",
    "            print(format(month_day, \"3d\"), end=\"\")\n",
    "            month_day += 1\n",
    "    print()\n",
    "    for i in range(7):\n",
    "            print(format(month_day, \"3d\"), end=\"\")\n",
    "            month_day += 1\n",
    "    print()\n",
    "    \n",
    "    for i in range(last_day):\n",
    "        print(format(month_day, \"3d\"), end=\"\")\n",
    "        if (i+starts_weekday)%7==6:\n",
    "            print()\n",
    "        month_day += 1\n",
    "    print()"
   ]
  },
  {
   "cell_type": "code",
   "execution_count": null,
   "metadata": {},
   "outputs": [],
   "source": []
  }
 ],
 "metadata": {
  "kernelspec": {
   "display_name": "Python 3",
   "language": "python",
   "name": "python3"
  },
  "language_info": {
   "codemirror_mode": {
    "name": "ipython",
    "version": 3
   },
   "file_extension": ".py",
   "mimetype": "text/x-python",
   "name": "python",
   "nbconvert_exporter": "python",
   "pygments_lexer": "ipython3",
   "version": "3.7.4"
  }
 },
 "nbformat": 4,
 "nbformat_minor": 2
}
