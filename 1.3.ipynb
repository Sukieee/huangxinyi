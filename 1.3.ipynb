{
 "cells": [
  {
   "cell_type": "code",
   "execution_count": 17,
   "metadata": {},
   "outputs": [],
   "source": [
    "x1 = 0;\n",
    "x2 = 0;\n",
    "x3 = 0;\n",
    "x4 = 0;"
   ]
  },
  {
   "cell_type": "code",
   "execution_count": 18,
   "metadata": {},
   "outputs": [
    {
     "name": "stdout",
     "output_type": "stream",
     "text": [
      "24995000\n"
     ]
    }
   ],
   "source": [
    "for i in range(2,10000):\n",
    "    if (i%2==0):\n",
    "        x1+=i;\n",
    "print(x1);"
   ]
  },
  {
   "cell_type": "code",
   "execution_count": 19,
   "metadata": {},
   "outputs": [
    {
     "name": "stdout",
     "output_type": "stream",
     "text": [
      "16668333\n"
     ]
    }
   ],
   "source": [
    "for i in range(10000):\n",
    "    if (i%3==0):\n",
    "        x2+=i;\n",
    "print(x2);"
   ]
  },
  {
   "cell_type": "code",
   "execution_count": 20,
   "metadata": {},
   "outputs": [
    {
     "name": "stdout",
     "output_type": "stream",
     "text": [
      "12495000\n"
     ]
    }
   ],
   "source": [
    "for i in range(10000):\n",
    "    if (i%4==0):\n",
    "        x3+=i;\n",
    "print(x3);"
   ]
  },
  {
   "cell_type": "code",
   "execution_count": 21,
   "metadata": {},
   "outputs": [
    {
     "name": "stdout",
     "output_type": "stream",
     "text": [
      "9995000\n"
     ]
    }
   ],
   "source": [
    "for i in range(10000):\n",
    "    if (i%5==0):\n",
    "        x4+=i;\n",
    "print(x4);"
   ]
  },
  {
   "cell_type": "code",
   "execution_count": 29,
   "metadata": {},
   "outputs": [],
   "source": [
    "b = []"
   ]
  },
  {
   "cell_type": "code",
   "execution_count": 30,
   "metadata": {},
   "outputs": [],
   "source": [
    "for i in range(128):\n",
    "    b.append(chr(i))"
   ]
  },
  {
   "cell_type": "code",
   "execution_count": 50,
   "metadata": {},
   "outputs": [
    {
     "name": "stdout",
     "output_type": "stream",
     "text": [
      "\u0000 \n",
      "\n",
      "\u0001 \u0002 \u0003 \u0004 \u0005 \u0006 \u0007 \b \t \n",
      " \u000e \u000f \u0010 \u0011 \u0012 \u0013 \u0014 \n",
      "\n",
      "\u0015 \u0016 \u0017 \u0018 \u0019 \u001a \u001b \u001c",
      " \u001d",
      " \u001e",
      " \u001f   ! \" # $ % & ' ( \n",
      "\n",
      ") * + , - . / 0 1 2 3 4 5 6 7 8 9 : ; < \n",
      "\n",
      "= > ? @ A B C D E F G H I J K L M N O P \n",
      "\n",
      "Q R S T U V W X Y Z [ \\ ] ^ _ ` a b c d \n",
      "\n",
      "e f g h i j k l m n o p q r s t u v w x \n",
      "\n",
      "y z { | } ~  "
     ]
    }
   ],
   "source": [
    "count = 0;\n",
    "y = 0;\n",
    "for i in range(128):\n",
    "    print(b[i],end=\" \");\n",
    "    if (i%20==0):\n",
    "        print('\\n');"
   ]
  },
  {
   "cell_type": "code",
   "execution_count": null,
   "metadata": {},
   "outputs": [],
   "source": []
  }
 ],
 "metadata": {
  "kernelspec": {
   "display_name": "Python 3",
   "language": "python",
   "name": "python3"
  },
  "language_info": {
   "codemirror_mode": {
    "name": "ipython",
    "version": 3
   },
   "file_extension": ".py",
   "mimetype": "text/x-python",
   "name": "python",
   "nbconvert_exporter": "python",
   "pygments_lexer": "ipython3",
   "version": "3.7.4"
  }
 },
 "nbformat": 4,
 "nbformat_minor": 2
}
