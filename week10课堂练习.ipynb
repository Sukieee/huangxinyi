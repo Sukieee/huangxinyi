{
 "cells": [
  {
   "cell_type": "code",
   "execution_count": 2,
   "metadata": {},
   "outputs": [],
   "source": [
    "from selenium import webdriver\n",
    "from pyquery import PyQuery as pq"
   ]
  },
  {
   "cell_type": "code",
   "execution_count": 3,
   "metadata": {},
   "outputs": [],
   "source": [
    "dr = webdriver.Chrome()"
   ]
  },
  {
   "cell_type": "code",
   "execution_count": 4,
   "metadata": {},
   "outputs": [],
   "source": [
    "dr.get(\"http://www.baidu.com\")"
   ]
  },
  {
   "cell_type": "code",
   "execution_count": 5,
   "metadata": {
    "scrolled": true
   },
   "outputs": [
    {
     "data": {
      "text/plain": [
       "[<selenium.webdriver.remote.webelement.WebElement (session=\"92821fb60e62054079824a3cc9f5095b\", element=\"9e82575c-076f-43bb-9eee-124b70de1c50\")>]"
      ]
     },
     "execution_count": 5,
     "metadata": {},
     "output_type": "execute_result"
    }
   ],
   "source": [
    "dr.find_elements_by_id('kw')"
   ]
  },
  {
   "cell_type": "code",
   "execution_count": 6,
   "metadata": {},
   "outputs": [
    {
     "ename": "WebDriverException",
     "evalue": "Message: chrome not reachable\n  (Session info: chrome=78.0.3904.97)\n",
     "output_type": "error",
     "traceback": [
      "\u001b[1;31m---------------------------------------------------------------------------\u001b[0m",
      "\u001b[1;31mWebDriverException\u001b[0m                        Traceback (most recent call last)",
      "\u001b[1;32m<ipython-input-6-37a7581c1ded>\u001b[0m in \u001b[0;36m<module>\u001b[1;34m\u001b[0m\n\u001b[1;32m----> 1\u001b[1;33m \u001b[0mdr\u001b[0m\u001b[1;33m.\u001b[0m\u001b[0mfind_element_by_id\u001b[0m\u001b[1;33m(\u001b[0m\u001b[1;34m'kw'\u001b[0m\u001b[1;33m)\u001b[0m\u001b[1;33m.\u001b[0m\u001b[0msend_keys\u001b[0m\u001b[1;33m(\u001b[0m\u001b[1;34m'tora'\u001b[0m\u001b[1;33m)\u001b[0m\u001b[1;33m\u001b[0m\u001b[1;33m\u001b[0m\u001b[0m\n\u001b[0m",
      "\u001b[1;32mc:\\users\\administrator.chao-20180828jc\\appdata\\local\\programs\\python\\python37-32\\lib\\site-packages\\selenium\\webdriver\\remote\\webdriver.py\u001b[0m in \u001b[0;36mfind_element_by_id\u001b[1;34m(self, id_)\u001b[0m\n\u001b[0;32m    358\u001b[0m             \u001b[0melement\u001b[0m \u001b[1;33m=\u001b[0m \u001b[0mdriver\u001b[0m\u001b[1;33m.\u001b[0m\u001b[0mfind_element_by_id\u001b[0m\u001b[1;33m(\u001b[0m\u001b[1;34m'foo'\u001b[0m\u001b[1;33m)\u001b[0m\u001b[1;33m\u001b[0m\u001b[1;33m\u001b[0m\u001b[0m\n\u001b[0;32m    359\u001b[0m         \"\"\"\n\u001b[1;32m--> 360\u001b[1;33m         \u001b[1;32mreturn\u001b[0m \u001b[0mself\u001b[0m\u001b[1;33m.\u001b[0m\u001b[0mfind_element\u001b[0m\u001b[1;33m(\u001b[0m\u001b[0mby\u001b[0m\u001b[1;33m=\u001b[0m\u001b[0mBy\u001b[0m\u001b[1;33m.\u001b[0m\u001b[0mID\u001b[0m\u001b[1;33m,\u001b[0m \u001b[0mvalue\u001b[0m\u001b[1;33m=\u001b[0m\u001b[0mid_\u001b[0m\u001b[1;33m)\u001b[0m\u001b[1;33m\u001b[0m\u001b[1;33m\u001b[0m\u001b[0m\n\u001b[0m\u001b[0;32m    361\u001b[0m \u001b[1;33m\u001b[0m\u001b[0m\n\u001b[0;32m    362\u001b[0m     \u001b[1;32mdef\u001b[0m \u001b[0mfind_elements_by_id\u001b[0m\u001b[1;33m(\u001b[0m\u001b[0mself\u001b[0m\u001b[1;33m,\u001b[0m \u001b[0mid_\u001b[0m\u001b[1;33m)\u001b[0m\u001b[1;33m:\u001b[0m\u001b[1;33m\u001b[0m\u001b[1;33m\u001b[0m\u001b[0m\n",
      "\u001b[1;32mc:\\users\\administrator.chao-20180828jc\\appdata\\local\\programs\\python\\python37-32\\lib\\site-packages\\selenium\\webdriver\\remote\\webdriver.py\u001b[0m in \u001b[0;36mfind_element\u001b[1;34m(self, by, value)\u001b[0m\n\u001b[0;32m    976\u001b[0m         return self.execute(Command.FIND_ELEMENT, {\n\u001b[0;32m    977\u001b[0m             \u001b[1;34m'using'\u001b[0m\u001b[1;33m:\u001b[0m \u001b[0mby\u001b[0m\u001b[1;33m,\u001b[0m\u001b[1;33m\u001b[0m\u001b[1;33m\u001b[0m\u001b[0m\n\u001b[1;32m--> 978\u001b[1;33m             'value': value})['value']\n\u001b[0m\u001b[0;32m    979\u001b[0m \u001b[1;33m\u001b[0m\u001b[0m\n\u001b[0;32m    980\u001b[0m     \u001b[1;32mdef\u001b[0m \u001b[0mfind_elements\u001b[0m\u001b[1;33m(\u001b[0m\u001b[0mself\u001b[0m\u001b[1;33m,\u001b[0m \u001b[0mby\u001b[0m\u001b[1;33m=\u001b[0m\u001b[0mBy\u001b[0m\u001b[1;33m.\u001b[0m\u001b[0mID\u001b[0m\u001b[1;33m,\u001b[0m \u001b[0mvalue\u001b[0m\u001b[1;33m=\u001b[0m\u001b[1;32mNone\u001b[0m\u001b[1;33m)\u001b[0m\u001b[1;33m:\u001b[0m\u001b[1;33m\u001b[0m\u001b[1;33m\u001b[0m\u001b[0m\n",
      "\u001b[1;32mc:\\users\\administrator.chao-20180828jc\\appdata\\local\\programs\\python\\python37-32\\lib\\site-packages\\selenium\\webdriver\\remote\\webdriver.py\u001b[0m in \u001b[0;36mexecute\u001b[1;34m(self, driver_command, params)\u001b[0m\n\u001b[0;32m    319\u001b[0m         \u001b[0mresponse\u001b[0m \u001b[1;33m=\u001b[0m \u001b[0mself\u001b[0m\u001b[1;33m.\u001b[0m\u001b[0mcommand_executor\u001b[0m\u001b[1;33m.\u001b[0m\u001b[0mexecute\u001b[0m\u001b[1;33m(\u001b[0m\u001b[0mdriver_command\u001b[0m\u001b[1;33m,\u001b[0m \u001b[0mparams\u001b[0m\u001b[1;33m)\u001b[0m\u001b[1;33m\u001b[0m\u001b[1;33m\u001b[0m\u001b[0m\n\u001b[0;32m    320\u001b[0m         \u001b[1;32mif\u001b[0m \u001b[0mresponse\u001b[0m\u001b[1;33m:\u001b[0m\u001b[1;33m\u001b[0m\u001b[1;33m\u001b[0m\u001b[0m\n\u001b[1;32m--> 321\u001b[1;33m             \u001b[0mself\u001b[0m\u001b[1;33m.\u001b[0m\u001b[0merror_handler\u001b[0m\u001b[1;33m.\u001b[0m\u001b[0mcheck_response\u001b[0m\u001b[1;33m(\u001b[0m\u001b[0mresponse\u001b[0m\u001b[1;33m)\u001b[0m\u001b[1;33m\u001b[0m\u001b[1;33m\u001b[0m\u001b[0m\n\u001b[0m\u001b[0;32m    322\u001b[0m             response['value'] = self._unwrap_value(\n\u001b[0;32m    323\u001b[0m                 response.get('value', None))\n",
      "\u001b[1;32mc:\\users\\administrator.chao-20180828jc\\appdata\\local\\programs\\python\\python37-32\\lib\\site-packages\\selenium\\webdriver\\remote\\errorhandler.py\u001b[0m in \u001b[0;36mcheck_response\u001b[1;34m(self, response)\u001b[0m\n\u001b[0;32m    240\u001b[0m                 \u001b[0malert_text\u001b[0m \u001b[1;33m=\u001b[0m \u001b[0mvalue\u001b[0m\u001b[1;33m[\u001b[0m\u001b[1;34m'alert'\u001b[0m\u001b[1;33m]\u001b[0m\u001b[1;33m.\u001b[0m\u001b[0mget\u001b[0m\u001b[1;33m(\u001b[0m\u001b[1;34m'text'\u001b[0m\u001b[1;33m)\u001b[0m\u001b[1;33m\u001b[0m\u001b[1;33m\u001b[0m\u001b[0m\n\u001b[0;32m    241\u001b[0m             \u001b[1;32mraise\u001b[0m \u001b[0mexception_class\u001b[0m\u001b[1;33m(\u001b[0m\u001b[0mmessage\u001b[0m\u001b[1;33m,\u001b[0m \u001b[0mscreen\u001b[0m\u001b[1;33m,\u001b[0m \u001b[0mstacktrace\u001b[0m\u001b[1;33m,\u001b[0m \u001b[0malert_text\u001b[0m\u001b[1;33m)\u001b[0m\u001b[1;33m\u001b[0m\u001b[1;33m\u001b[0m\u001b[0m\n\u001b[1;32m--> 242\u001b[1;33m         \u001b[1;32mraise\u001b[0m \u001b[0mexception_class\u001b[0m\u001b[1;33m(\u001b[0m\u001b[0mmessage\u001b[0m\u001b[1;33m,\u001b[0m \u001b[0mscreen\u001b[0m\u001b[1;33m,\u001b[0m \u001b[0mstacktrace\u001b[0m\u001b[1;33m)\u001b[0m\u001b[1;33m\u001b[0m\u001b[1;33m\u001b[0m\u001b[0m\n\u001b[0m\u001b[0;32m    243\u001b[0m \u001b[1;33m\u001b[0m\u001b[0m\n\u001b[0;32m    244\u001b[0m     \u001b[1;32mdef\u001b[0m \u001b[0m_value_or_default\u001b[0m\u001b[1;33m(\u001b[0m\u001b[0mself\u001b[0m\u001b[1;33m,\u001b[0m \u001b[0mobj\u001b[0m\u001b[1;33m,\u001b[0m \u001b[0mkey\u001b[0m\u001b[1;33m,\u001b[0m \u001b[0mdefault\u001b[0m\u001b[1;33m)\u001b[0m\u001b[1;33m:\u001b[0m\u001b[1;33m\u001b[0m\u001b[1;33m\u001b[0m\u001b[0m\n",
      "\u001b[1;31mWebDriverException\u001b[0m: Message: chrome not reachable\n  (Session info: chrome=78.0.3904.97)\n"
     ]
    }
   ],
   "source": [
    "dr.find_element_by_id('kw').send_keys('tora')"
   ]
  },
  {
   "cell_type": "code",
   "execution_count": 8,
   "metadata": {},
   "outputs": [
    {
     "ename": "WebDriverException",
     "evalue": "Message: chrome not reachable\n  (Session info: chrome=78.0.3904.97)\n",
     "output_type": "error",
     "traceback": [
      "\u001b[1;31m---------------------------------------------------------------------------\u001b[0m",
      "\u001b[1;31mWebDriverException\u001b[0m                        Traceback (most recent call last)",
      "\u001b[1;32m<ipython-input-8-7f625f284751>\u001b[0m in \u001b[0;36m<module>\u001b[1;34m\u001b[0m\n\u001b[1;32m----> 1\u001b[1;33m \u001b[0mdr\u001b[0m\u001b[1;33m.\u001b[0m\u001b[0mfind_element_by_id\u001b[0m\u001b[1;33m(\u001b[0m\u001b[1;34m'su'\u001b[0m\u001b[1;33m)\u001b[0m\u001b[1;33m.\u001b[0m\u001b[0mclick\u001b[0m\u001b[1;33m(\u001b[0m\u001b[1;33m)\u001b[0m\u001b[1;33m\u001b[0m\u001b[1;33m\u001b[0m\u001b[0m\n\u001b[0m",
      "\u001b[1;32mc:\\users\\administrator.chao-20180828jc\\appdata\\local\\programs\\python\\python37-32\\lib\\site-packages\\selenium\\webdriver\\remote\\webdriver.py\u001b[0m in \u001b[0;36mfind_element_by_id\u001b[1;34m(self, id_)\u001b[0m\n\u001b[0;32m    358\u001b[0m             \u001b[0melement\u001b[0m \u001b[1;33m=\u001b[0m \u001b[0mdriver\u001b[0m\u001b[1;33m.\u001b[0m\u001b[0mfind_element_by_id\u001b[0m\u001b[1;33m(\u001b[0m\u001b[1;34m'foo'\u001b[0m\u001b[1;33m)\u001b[0m\u001b[1;33m\u001b[0m\u001b[1;33m\u001b[0m\u001b[0m\n\u001b[0;32m    359\u001b[0m         \"\"\"\n\u001b[1;32m--> 360\u001b[1;33m         \u001b[1;32mreturn\u001b[0m \u001b[0mself\u001b[0m\u001b[1;33m.\u001b[0m\u001b[0mfind_element\u001b[0m\u001b[1;33m(\u001b[0m\u001b[0mby\u001b[0m\u001b[1;33m=\u001b[0m\u001b[0mBy\u001b[0m\u001b[1;33m.\u001b[0m\u001b[0mID\u001b[0m\u001b[1;33m,\u001b[0m \u001b[0mvalue\u001b[0m\u001b[1;33m=\u001b[0m\u001b[0mid_\u001b[0m\u001b[1;33m)\u001b[0m\u001b[1;33m\u001b[0m\u001b[1;33m\u001b[0m\u001b[0m\n\u001b[0m\u001b[0;32m    361\u001b[0m \u001b[1;33m\u001b[0m\u001b[0m\n\u001b[0;32m    362\u001b[0m     \u001b[1;32mdef\u001b[0m \u001b[0mfind_elements_by_id\u001b[0m\u001b[1;33m(\u001b[0m\u001b[0mself\u001b[0m\u001b[1;33m,\u001b[0m \u001b[0mid_\u001b[0m\u001b[1;33m)\u001b[0m\u001b[1;33m:\u001b[0m\u001b[1;33m\u001b[0m\u001b[1;33m\u001b[0m\u001b[0m\n",
      "\u001b[1;32mc:\\users\\administrator.chao-20180828jc\\appdata\\local\\programs\\python\\python37-32\\lib\\site-packages\\selenium\\webdriver\\remote\\webdriver.py\u001b[0m in \u001b[0;36mfind_element\u001b[1;34m(self, by, value)\u001b[0m\n\u001b[0;32m    976\u001b[0m         return self.execute(Command.FIND_ELEMENT, {\n\u001b[0;32m    977\u001b[0m             \u001b[1;34m'using'\u001b[0m\u001b[1;33m:\u001b[0m \u001b[0mby\u001b[0m\u001b[1;33m,\u001b[0m\u001b[1;33m\u001b[0m\u001b[1;33m\u001b[0m\u001b[0m\n\u001b[1;32m--> 978\u001b[1;33m             'value': value})['value']\n\u001b[0m\u001b[0;32m    979\u001b[0m \u001b[1;33m\u001b[0m\u001b[0m\n\u001b[0;32m    980\u001b[0m     \u001b[1;32mdef\u001b[0m \u001b[0mfind_elements\u001b[0m\u001b[1;33m(\u001b[0m\u001b[0mself\u001b[0m\u001b[1;33m,\u001b[0m \u001b[0mby\u001b[0m\u001b[1;33m=\u001b[0m\u001b[0mBy\u001b[0m\u001b[1;33m.\u001b[0m\u001b[0mID\u001b[0m\u001b[1;33m,\u001b[0m \u001b[0mvalue\u001b[0m\u001b[1;33m=\u001b[0m\u001b[1;32mNone\u001b[0m\u001b[1;33m)\u001b[0m\u001b[1;33m:\u001b[0m\u001b[1;33m\u001b[0m\u001b[1;33m\u001b[0m\u001b[0m\n",
      "\u001b[1;32mc:\\users\\administrator.chao-20180828jc\\appdata\\local\\programs\\python\\python37-32\\lib\\site-packages\\selenium\\webdriver\\remote\\webdriver.py\u001b[0m in \u001b[0;36mexecute\u001b[1;34m(self, driver_command, params)\u001b[0m\n\u001b[0;32m    319\u001b[0m         \u001b[0mresponse\u001b[0m \u001b[1;33m=\u001b[0m \u001b[0mself\u001b[0m\u001b[1;33m.\u001b[0m\u001b[0mcommand_executor\u001b[0m\u001b[1;33m.\u001b[0m\u001b[0mexecute\u001b[0m\u001b[1;33m(\u001b[0m\u001b[0mdriver_command\u001b[0m\u001b[1;33m,\u001b[0m \u001b[0mparams\u001b[0m\u001b[1;33m)\u001b[0m\u001b[1;33m\u001b[0m\u001b[1;33m\u001b[0m\u001b[0m\n\u001b[0;32m    320\u001b[0m         \u001b[1;32mif\u001b[0m \u001b[0mresponse\u001b[0m\u001b[1;33m:\u001b[0m\u001b[1;33m\u001b[0m\u001b[1;33m\u001b[0m\u001b[0m\n\u001b[1;32m--> 321\u001b[1;33m             \u001b[0mself\u001b[0m\u001b[1;33m.\u001b[0m\u001b[0merror_handler\u001b[0m\u001b[1;33m.\u001b[0m\u001b[0mcheck_response\u001b[0m\u001b[1;33m(\u001b[0m\u001b[0mresponse\u001b[0m\u001b[1;33m)\u001b[0m\u001b[1;33m\u001b[0m\u001b[1;33m\u001b[0m\u001b[0m\n\u001b[0m\u001b[0;32m    322\u001b[0m             response['value'] = self._unwrap_value(\n\u001b[0;32m    323\u001b[0m                 response.get('value', None))\n",
      "\u001b[1;32mc:\\users\\administrator.chao-20180828jc\\appdata\\local\\programs\\python\\python37-32\\lib\\site-packages\\selenium\\webdriver\\remote\\errorhandler.py\u001b[0m in \u001b[0;36mcheck_response\u001b[1;34m(self, response)\u001b[0m\n\u001b[0;32m    240\u001b[0m                 \u001b[0malert_text\u001b[0m \u001b[1;33m=\u001b[0m \u001b[0mvalue\u001b[0m\u001b[1;33m[\u001b[0m\u001b[1;34m'alert'\u001b[0m\u001b[1;33m]\u001b[0m\u001b[1;33m.\u001b[0m\u001b[0mget\u001b[0m\u001b[1;33m(\u001b[0m\u001b[1;34m'text'\u001b[0m\u001b[1;33m)\u001b[0m\u001b[1;33m\u001b[0m\u001b[1;33m\u001b[0m\u001b[0m\n\u001b[0;32m    241\u001b[0m             \u001b[1;32mraise\u001b[0m \u001b[0mexception_class\u001b[0m\u001b[1;33m(\u001b[0m\u001b[0mmessage\u001b[0m\u001b[1;33m,\u001b[0m \u001b[0mscreen\u001b[0m\u001b[1;33m,\u001b[0m \u001b[0mstacktrace\u001b[0m\u001b[1;33m,\u001b[0m \u001b[0malert_text\u001b[0m\u001b[1;33m)\u001b[0m\u001b[1;33m\u001b[0m\u001b[1;33m\u001b[0m\u001b[0m\n\u001b[1;32m--> 242\u001b[1;33m         \u001b[1;32mraise\u001b[0m \u001b[0mexception_class\u001b[0m\u001b[1;33m(\u001b[0m\u001b[0mmessage\u001b[0m\u001b[1;33m,\u001b[0m \u001b[0mscreen\u001b[0m\u001b[1;33m,\u001b[0m \u001b[0mstacktrace\u001b[0m\u001b[1;33m)\u001b[0m\u001b[1;33m\u001b[0m\u001b[1;33m\u001b[0m\u001b[0m\n\u001b[0m\u001b[0;32m    243\u001b[0m \u001b[1;33m\u001b[0m\u001b[0m\n\u001b[0;32m    244\u001b[0m     \u001b[1;32mdef\u001b[0m \u001b[0m_value_or_default\u001b[0m\u001b[1;33m(\u001b[0m\u001b[0mself\u001b[0m\u001b[1;33m,\u001b[0m \u001b[0mobj\u001b[0m\u001b[1;33m,\u001b[0m \u001b[0mkey\u001b[0m\u001b[1;33m,\u001b[0m \u001b[0mdefault\u001b[0m\u001b[1;33m)\u001b[0m\u001b[1;33m:\u001b[0m\u001b[1;33m\u001b[0m\u001b[1;33m\u001b[0m\u001b[0m\n",
      "\u001b[1;31mWebDriverException\u001b[0m: Message: chrome not reachable\n  (Session info: chrome=78.0.3904.97)\n"
     ]
    }
   ],
   "source": [
    "dr.find_element_by_id('su').click()"
   ]
  },
  {
   "cell_type": "code",
   "execution_count": 10,
   "metadata": {},
   "outputs": [
    {
     "ename": "WebDriverException",
     "evalue": "Message: chrome not reachable\n  (Session info: chrome=78.0.3904.97)\n",
     "output_type": "error",
     "traceback": [
      "\u001b[1;31m---------------------------------------------------------------------------\u001b[0m",
      "\u001b[1;31mWebDriverException\u001b[0m                        Traceback (most recent call last)",
      "\u001b[1;32m<ipython-input-10-6af49c8ba6db>\u001b[0m in \u001b[0;36m<module>\u001b[1;34m\u001b[0m\n\u001b[1;32m----> 1\u001b[1;33m \u001b[0mdr\u001b[0m\u001b[1;33m.\u001b[0m\u001b[0mfind_element_by_id\u001b[0m\u001b[1;33m(\u001b[0m\u001b[1;34m'content_left'\u001b[0m\u001b[1;33m)\u001b[0m\u001b[1;33m\u001b[0m\u001b[1;33m\u001b[0m\u001b[0m\n\u001b[0m",
      "\u001b[1;32mc:\\users\\administrator.chao-20180828jc\\appdata\\local\\programs\\python\\python37-32\\lib\\site-packages\\selenium\\webdriver\\remote\\webdriver.py\u001b[0m in \u001b[0;36mfind_element_by_id\u001b[1;34m(self, id_)\u001b[0m\n\u001b[0;32m    358\u001b[0m             \u001b[0melement\u001b[0m \u001b[1;33m=\u001b[0m \u001b[0mdriver\u001b[0m\u001b[1;33m.\u001b[0m\u001b[0mfind_element_by_id\u001b[0m\u001b[1;33m(\u001b[0m\u001b[1;34m'foo'\u001b[0m\u001b[1;33m)\u001b[0m\u001b[1;33m\u001b[0m\u001b[1;33m\u001b[0m\u001b[0m\n\u001b[0;32m    359\u001b[0m         \"\"\"\n\u001b[1;32m--> 360\u001b[1;33m         \u001b[1;32mreturn\u001b[0m \u001b[0mself\u001b[0m\u001b[1;33m.\u001b[0m\u001b[0mfind_element\u001b[0m\u001b[1;33m(\u001b[0m\u001b[0mby\u001b[0m\u001b[1;33m=\u001b[0m\u001b[0mBy\u001b[0m\u001b[1;33m.\u001b[0m\u001b[0mID\u001b[0m\u001b[1;33m,\u001b[0m \u001b[0mvalue\u001b[0m\u001b[1;33m=\u001b[0m\u001b[0mid_\u001b[0m\u001b[1;33m)\u001b[0m\u001b[1;33m\u001b[0m\u001b[1;33m\u001b[0m\u001b[0m\n\u001b[0m\u001b[0;32m    361\u001b[0m \u001b[1;33m\u001b[0m\u001b[0m\n\u001b[0;32m    362\u001b[0m     \u001b[1;32mdef\u001b[0m \u001b[0mfind_elements_by_id\u001b[0m\u001b[1;33m(\u001b[0m\u001b[0mself\u001b[0m\u001b[1;33m,\u001b[0m \u001b[0mid_\u001b[0m\u001b[1;33m)\u001b[0m\u001b[1;33m:\u001b[0m\u001b[1;33m\u001b[0m\u001b[1;33m\u001b[0m\u001b[0m\n",
      "\u001b[1;32mc:\\users\\administrator.chao-20180828jc\\appdata\\local\\programs\\python\\python37-32\\lib\\site-packages\\selenium\\webdriver\\remote\\webdriver.py\u001b[0m in \u001b[0;36mfind_element\u001b[1;34m(self, by, value)\u001b[0m\n\u001b[0;32m    976\u001b[0m         return self.execute(Command.FIND_ELEMENT, {\n\u001b[0;32m    977\u001b[0m             \u001b[1;34m'using'\u001b[0m\u001b[1;33m:\u001b[0m \u001b[0mby\u001b[0m\u001b[1;33m,\u001b[0m\u001b[1;33m\u001b[0m\u001b[1;33m\u001b[0m\u001b[0m\n\u001b[1;32m--> 978\u001b[1;33m             'value': value})['value']\n\u001b[0m\u001b[0;32m    979\u001b[0m \u001b[1;33m\u001b[0m\u001b[0m\n\u001b[0;32m    980\u001b[0m     \u001b[1;32mdef\u001b[0m \u001b[0mfind_elements\u001b[0m\u001b[1;33m(\u001b[0m\u001b[0mself\u001b[0m\u001b[1;33m,\u001b[0m \u001b[0mby\u001b[0m\u001b[1;33m=\u001b[0m\u001b[0mBy\u001b[0m\u001b[1;33m.\u001b[0m\u001b[0mID\u001b[0m\u001b[1;33m,\u001b[0m \u001b[0mvalue\u001b[0m\u001b[1;33m=\u001b[0m\u001b[1;32mNone\u001b[0m\u001b[1;33m)\u001b[0m\u001b[1;33m:\u001b[0m\u001b[1;33m\u001b[0m\u001b[1;33m\u001b[0m\u001b[0m\n",
      "\u001b[1;32mc:\\users\\administrator.chao-20180828jc\\appdata\\local\\programs\\python\\python37-32\\lib\\site-packages\\selenium\\webdriver\\remote\\webdriver.py\u001b[0m in \u001b[0;36mexecute\u001b[1;34m(self, driver_command, params)\u001b[0m\n\u001b[0;32m    319\u001b[0m         \u001b[0mresponse\u001b[0m \u001b[1;33m=\u001b[0m \u001b[0mself\u001b[0m\u001b[1;33m.\u001b[0m\u001b[0mcommand_executor\u001b[0m\u001b[1;33m.\u001b[0m\u001b[0mexecute\u001b[0m\u001b[1;33m(\u001b[0m\u001b[0mdriver_command\u001b[0m\u001b[1;33m,\u001b[0m \u001b[0mparams\u001b[0m\u001b[1;33m)\u001b[0m\u001b[1;33m\u001b[0m\u001b[1;33m\u001b[0m\u001b[0m\n\u001b[0;32m    320\u001b[0m         \u001b[1;32mif\u001b[0m \u001b[0mresponse\u001b[0m\u001b[1;33m:\u001b[0m\u001b[1;33m\u001b[0m\u001b[1;33m\u001b[0m\u001b[0m\n\u001b[1;32m--> 321\u001b[1;33m             \u001b[0mself\u001b[0m\u001b[1;33m.\u001b[0m\u001b[0merror_handler\u001b[0m\u001b[1;33m.\u001b[0m\u001b[0mcheck_response\u001b[0m\u001b[1;33m(\u001b[0m\u001b[0mresponse\u001b[0m\u001b[1;33m)\u001b[0m\u001b[1;33m\u001b[0m\u001b[1;33m\u001b[0m\u001b[0m\n\u001b[0m\u001b[0;32m    322\u001b[0m             response['value'] = self._unwrap_value(\n\u001b[0;32m    323\u001b[0m                 response.get('value', None))\n",
      "\u001b[1;32mc:\\users\\administrator.chao-20180828jc\\appdata\\local\\programs\\python\\python37-32\\lib\\site-packages\\selenium\\webdriver\\remote\\errorhandler.py\u001b[0m in \u001b[0;36mcheck_response\u001b[1;34m(self, response)\u001b[0m\n\u001b[0;32m    240\u001b[0m                 \u001b[0malert_text\u001b[0m \u001b[1;33m=\u001b[0m \u001b[0mvalue\u001b[0m\u001b[1;33m[\u001b[0m\u001b[1;34m'alert'\u001b[0m\u001b[1;33m]\u001b[0m\u001b[1;33m.\u001b[0m\u001b[0mget\u001b[0m\u001b[1;33m(\u001b[0m\u001b[1;34m'text'\u001b[0m\u001b[1;33m)\u001b[0m\u001b[1;33m\u001b[0m\u001b[1;33m\u001b[0m\u001b[0m\n\u001b[0;32m    241\u001b[0m             \u001b[1;32mraise\u001b[0m \u001b[0mexception_class\u001b[0m\u001b[1;33m(\u001b[0m\u001b[0mmessage\u001b[0m\u001b[1;33m,\u001b[0m \u001b[0mscreen\u001b[0m\u001b[1;33m,\u001b[0m \u001b[0mstacktrace\u001b[0m\u001b[1;33m,\u001b[0m \u001b[0malert_text\u001b[0m\u001b[1;33m)\u001b[0m\u001b[1;33m\u001b[0m\u001b[1;33m\u001b[0m\u001b[0m\n\u001b[1;32m--> 242\u001b[1;33m         \u001b[1;32mraise\u001b[0m \u001b[0mexception_class\u001b[0m\u001b[1;33m(\u001b[0m\u001b[0mmessage\u001b[0m\u001b[1;33m,\u001b[0m \u001b[0mscreen\u001b[0m\u001b[1;33m,\u001b[0m \u001b[0mstacktrace\u001b[0m\u001b[1;33m)\u001b[0m\u001b[1;33m\u001b[0m\u001b[1;33m\u001b[0m\u001b[0m\n\u001b[0m\u001b[0;32m    243\u001b[0m \u001b[1;33m\u001b[0m\u001b[0m\n\u001b[0;32m    244\u001b[0m     \u001b[1;32mdef\u001b[0m \u001b[0m_value_or_default\u001b[0m\u001b[1;33m(\u001b[0m\u001b[0mself\u001b[0m\u001b[1;33m,\u001b[0m \u001b[0mobj\u001b[0m\u001b[1;33m,\u001b[0m \u001b[0mkey\u001b[0m\u001b[1;33m,\u001b[0m \u001b[0mdefault\u001b[0m\u001b[1;33m)\u001b[0m\u001b[1;33m:\u001b[0m\u001b[1;33m\u001b[0m\u001b[1;33m\u001b[0m\u001b[0m\n",
      "\u001b[1;31mWebDriverException\u001b[0m: Message: chrome not reachable\n  (Session info: chrome=78.0.3904.97)\n"
     ]
    }
   ],
   "source": [
    "dr.find_element_by_id('content_left')"
   ]
  },
  {
   "cell_type": "code",
   "execution_count": null,
   "metadata": {},
   "outputs": [],
   "source": [
    "s = dr.page_source"
   ]
  },
  {
   "cell_type": "code",
   "execution_count": null,
   "metadata": {},
   "outputs": [],
   "source": [
    "print(s)"
   ]
  },
  {
   "cell_type": "code",
   "execution_count": null,
   "metadata": {},
   "outputs": [],
   "source": [
    "doc = pq(s)"
   ]
  },
  {
   "cell_type": "code",
   "execution_count": null,
   "metadata": {},
   "outputs": [],
   "source": [
    "lst = doc('#content_left .c-container h3 a em')"
   ]
  },
  {
   "cell_type": "code",
   "execution_count": 9,
   "metadata": {
    "scrolled": true
   },
   "outputs": [
    {
     "ename": "NameError",
     "evalue": "name 'lst' is not defined",
     "output_type": "error",
     "traceback": [
      "\u001b[1;31m---------------------------------------------------------------------------\u001b[0m",
      "\u001b[1;31mNameError\u001b[0m                                 Traceback (most recent call last)",
      "\u001b[1;32m<ipython-input-9-d630a01b856b>\u001b[0m in \u001b[0;36m<module>\u001b[1;34m\u001b[0m\n\u001b[1;32m----> 1\u001b[1;33m \u001b[0mprint\u001b[0m\u001b[1;33m(\u001b[0m\u001b[0mlst\u001b[0m\u001b[1;33m)\u001b[0m\u001b[1;33m\u001b[0m\u001b[1;33m\u001b[0m\u001b[0m\n\u001b[0m",
      "\u001b[1;31mNameError\u001b[0m: name 'lst' is not defined"
     ]
    }
   ],
   "source": [
    "print(lst)"
   ]
  },
  {
   "cell_type": "code",
   "execution_count": 24,
   "metadata": {},
   "outputs": [
    {
     "data": {
      "text/plain": [
       "11"
      ]
     },
     "execution_count": 24,
     "metadata": {},
     "output_type": "execute_result"
    }
   ],
   "source": [
    "len(lst)"
   ]
  },
  {
   "cell_type": "code",
   "execution_count": 26,
   "metadata": {
    "collapsed": true
   },
   "outputs": [
    {
     "name": "stdout",
     "output_type": "stream",
     "text": [
      "<class 'generator'>\n",
      "<a data-click=\"{&#10;&#9;&#9;&#9;'F':'778317EA',&#10;&#9;&#9;&#9;'F1':'9D73F1C4',&#10;&#9;&#9;&#9;'F2':'4CA6DE6B',&#10;&#9;&#9;&#9;'F3':'54E5243F',&#10;&#9;&#9;&#9;'T':'1573611072',&#10;&#9;&#9;&#9;&#9;&#9;&#9;'y':'D5DC3EEA'&#10;&#9;&#9;&#9;&#9;&#9;&#9;&#9;&#9;&#9;&#9;&#9;&#9;}\" href=\"http://www.baidu.com/link?url=NpNK-hNwvIt4wBBp1omMIBDQ0oogQOtmFHsCd_aNYCsDYlHW5az-7bTPUoYnHSmiWwwT-1EXDJ2jy4JBQ1PVda\" target=\"_blank\"><em>杨瑞霞</em>_河北工业大学信息工程学院</a>\n",
      "<a href=\"http://www.baidu.com/link?url=24e3ueAv-oUvJQkelKmYxD1hrqEsRFaCK-Sn40IcNzppX5wvU_1liZtsv0i95oOGYO6gBckk4WCYU8zrG5198u1w6QaGIH9cNlnXgl5OiBVrJ-RVXmYNNjRY8UHSl0_1\" target=\"_blank\"><em>杨瑞霞</em>_百度百科</a>\n",
      "        \n",
      "<a href=\"http://www.baidu.com/link?url=MY8yj3D7XxsIqbq-NSVG4RmFBX4BZVLNgJzGYcU4BB9M3DJPT-ruIKucGJ-BzX-fUPTsVfCAPfozercwSHONUK6MFFy12BaqisJ91SeHtSr-x-inwb6TXRiyjfgTL6e9twYjgHxyAe5qRGtUADtr7CG6Ov4WYvQyArx02ehB3ZPLAlOIrKlgHCNyLUqOVxuZP1u1HNkF0HVFPpZ_HIYouoigC8szz1vFjRlUi2z6q6C\" target=\"_blank\"><em>杨瑞霞</em>_百度图片</a>\n",
      "        \n",
      "<a data-click=\"{&#10;&#9;&#9;&#9;'F':'778317EA',&#10;&#9;&#9;&#9;'F1':'9D73F1C4',&#10;&#9;&#9;&#9;'F2':'4CA6DEEB',&#10;&#9;&#9;&#9;'F3':'54E5243F',&#10;&#9;&#9;&#9;'T':'1573611072',&#10;&#9;&#9;&#9;&#9;&#9;&#9;'y':'AFEFEFC9'&#10;&#9;&#9;&#9;&#9;&#9;&#9;&#9;&#9;&#9;&#9;&#9;&#9;}\" href=\"http://www.baidu.com/link?url=VSBB7QORyIFyWgheXv2tRqjte3oynq71fF0Nrnw2UvvDKpiaBis7DrPOu6wjnCVs\" target=\"_blank\"><em>杨瑞霞</em>的blog—人生采访 - 作家阿瑞_新浪博客</a>\n",
      "<a data-click=\"{&#10;&#9;&#9;&#9;'F':'778317EA',&#10;&#9;&#9;&#9;'F1':'9D73F1C4',&#10;&#9;&#9;&#9;'F2':'4CA6DE6B',&#10;&#9;&#9;&#9;'F3':'54E5243F',&#10;&#9;&#9;&#9;'T':'1573611072',&#10;&#9;&#9;&#9;&#9;&#9;&#9;'y':'7FE7BDBD'&#10;&#9;&#9;&#9;&#9;&#9;&#9;&#9;&#9;&#9;&#9;&#9;&#9;}\" href=\"http://www.baidu.com/link?url=2Cp_dQbah19JS8YBhL6JAnr3byjNZl5H4PMzg8TTzGl0VD2wZh7uJ44UreH3eWsI\" target=\"_blank\"><em>杨瑞霞</em>医生预约挂号_济源市人民医院<em>杨瑞霞</em>大夫出诊时间_39就医助手</a>\n",
      "<a data-click=\"{&#10;&#9;&#9;&#9;'F':'778317EA',&#10;&#9;&#9;&#9;'F1':'9D73F1C4',&#10;&#9;&#9;&#9;'F2':'4CA6DD6B',&#10;&#9;&#9;&#9;'F3':'54E5243F',&#10;&#9;&#9;&#9;'T':'1573611072',&#10;&#9;&#9;&#9;&#9;&#9;&#9;'y':'DEFB72B5'&#10;&#9;&#9;&#9;&#9;&#9;&#9;&#9;&#9;&#9;&#9;&#9;&#9;}\" href=\"http://www.baidu.com/link?url=bUJiAxtVbJZk0Tvi7IYR_KAka2SE5NGN8DPpA-K0g2QYny0Vm9fqcMU9yiEaaI7WTi3UQ0WlvcNklJiKU2ed3wvXvQhBJzAhhx2tobjXKEq\" target=\"_blank\"><em>杨瑞霞</em>(河南科技大学经济学院副教授)_百度百科</a>\n",
      "<a data-click=\"{&#10;&#9;&#9;&#9;'F':'778317EA',&#10;&#9;&#9;&#9;'F1':'9D73F1C4',&#10;&#9;&#9;&#9;'F2':'4CA6DC6B',&#10;&#9;&#9;&#9;'F3':'54E5243F',&#10;&#9;&#9;&#9;'T':'1573611072',&#10;&#9;&#9;&#9;&#9;&#9;&#9;'y':'74FFBFFF'&#10;&#9;&#9;&#9;&#9;&#9;&#9;&#9;&#9;&#9;&#9;&#9;&#9;}\" href=\"http://www.baidu.com/link?url=xajg5rH-mLeJNNd9ihcKa9fgaUF5XWDf-2O1dZ36ZlIjxruMsCa5LcE62Qc3ANigYRndBe5oz3B7wqpH2E1INK\" target=\"_blank\"><em>杨瑞霞</em> (豆瓣)</a>\n",
      "<a href=\"/sf/vsearch?pd=video&amp;tn=vsearch&amp;lid=a04129b2001b30de&amp;ie=utf-8&amp;rsv_pq=a04129b2001b30de&amp;wd=%E6%9D%A8%E7%91%9E%E9%9C%9E&amp;rsv_spt=5&amp;rsv_t=85baNm85tnR6y3QHDLdDrJU7tVXvuUY06Q%2BenuT5fm66TYDbyE6M1kMu9tI&amp;rsv_bp=1&amp;f=8\" target=\"_blank\"><em>杨瑞霞</em>_视频大全_高清在线观看</a>\n",
      "        \n",
      "<a data-click=\"{&#10;&#9;&#9;&#9;'F':'778317EA',&#10;&#9;&#9;&#9;'F1':'9D73F1C4',&#10;&#9;&#9;&#9;'F2':'4CA6DD6B',&#10;&#9;&#9;&#9;'F3':'54E5243F',&#10;&#9;&#9;&#9;'T':'1573611072',&#10;&#9;&#9;&#9;&#9;&#9;&#9;'y':'13DFF76E'&#10;&#9;&#9;&#9;&#9;&#9;&#9;&#9;&#9;&#9;&#9;&#9;&#9;}\" href=\"http://www.baidu.com/link?url=L0p00GLZmLhnx3eHq1JyryFGveWI5A_AUVsHVEyUFzSCONEftlu7ZPyxLKZAeVF9\" target=\"_blank\"><em>杨瑞霞</em>(信息工程学院)老师 - 河北工业大学</a>\n",
      "<a data-click=\"{&#10;&#9;&#9;&#9;'F':'778317EA',&#10;&#9;&#9;&#9;'F1':'9D73F1C4',&#10;&#9;&#9;&#9;'F2':'4CA6DE6B',&#10;&#9;&#9;&#9;'F3':'54E5243F',&#10;&#9;&#9;&#9;'T':'1573611072',&#10;&#9;&#9;&#9;&#9;&#9;&#9;'y':'FB5DAD7A'&#10;&#9;&#9;&#9;&#9;&#9;&#9;&#9;&#9;&#9;&#9;&#9;&#9;}\" href=\"http://www.baidu.com/link?url=HtKk11nH3iwzyxdkcfioLWHcH_6SYgACNPMULXnQcXFU4ZThfyyY-M7BCJhcxYFYKEM6JjSsLbl9TgW3xMC35q\" target=\"_blank\"><em>杨瑞霞</em>医生预约挂号-出诊时间-济源市人民医院神经内科 - 名医汇</a>\n"
     ]
    }
   ],
   "source": [
    "lis = doc('#content_left .c-container h3 a').items()#.items会是一个生成器\n",
    "print(type(lis))\n",
    "for li in lis:\n",
    "    print(li)"
   ]
  },
  {
   "cell_type": "code",
   "execution_count": 28,
   "metadata": {},
   "outputs": [
    {
     "data": {
      "text/plain": [
       "<selenium.webdriver.remote.webelement.WebElement (session=\"975608021b7876e9ff7676ed46b4ca80\", element=\"dd0f0a24-52f3-4303-bd2a-3cb9f4b1925e\")>"
      ]
     },
     "execution_count": 28,
     "metadata": {},
     "output_type": "execute_result"
    }
   ],
   "source": [
    "dr.find_element_by_id('page')"
   ]
  },
  {
   "cell_type": "code",
   "execution_count": 29,
   "metadata": {},
   "outputs": [],
   "source": [
    "f = dr.page_source"
   ]
  },
  {
   "cell_type": "code",
   "execution_count": 31,
   "metadata": {},
   "outputs": [],
   "source": [
    "doc2 = pq(f)"
   ]
  },
  {
   "cell_type": "code",
   "execution_count": 34,
   "metadata": {},
   "outputs": [],
   "source": [
    "lst2 = doc2('#page a')"
   ]
  },
  {
   "cell_type": "code",
   "execution_count": 35,
   "metadata": {},
   "outputs": [
    {
     "name": "stdout",
     "output_type": "stream",
     "text": [
      "<a href=\"/s?wd=%E6%9D%A8%E7%91%9E%E9%9C%9E&amp;pn=10&amp;oq=%E6%9D%A8%E7%91%9E%E9%9C%9E&amp;ie=utf-8&amp;usm=2&amp;rsv_idx=1&amp;rsv_pq=a04129b2001b30de&amp;rsv_t=7073xbHF4oNlwPm%2FYNYbVHgK5IfHjUrI6QT4212L1mS8vyZNmvbuirYWpVI\"><span class=\"fk fkd\"><i class=\"c-icon c-icon-bear-pn\"/></span><span class=\"pc\">2</span></a><a href=\"/s?wd=%E6%9D%A8%E7%91%9E%E9%9C%9E&amp;pn=20&amp;oq=%E6%9D%A8%E7%91%9E%E9%9C%9E&amp;ie=utf-8&amp;usm=2&amp;rsv_idx=1&amp;rsv_pq=a04129b2001b30de&amp;rsv_t=7073xbHF4oNlwPm%2FYNYbVHgK5IfHjUrI6QT4212L1mS8vyZNmvbuirYWpVI\"><span class=\"fk\"><i class=\"c-icon c-icon-bear-pn\"/></span><span class=\"pc\">3</span></a><a href=\"/s?wd=%E6%9D%A8%E7%91%9E%E9%9C%9E&amp;pn=30&amp;oq=%E6%9D%A8%E7%91%9E%E9%9C%9E&amp;ie=utf-8&amp;usm=2&amp;rsv_idx=1&amp;rsv_pq=a04129b2001b30de&amp;rsv_t=7073xbHF4oNlwPm%2FYNYbVHgK5IfHjUrI6QT4212L1mS8vyZNmvbuirYWpVI\"><span class=\"fk fkd\"><i class=\"c-icon c-icon-bear-pn\"/></span><span class=\"pc\">4</span></a><a href=\"/s?wd=%E6%9D%A8%E7%91%9E%E9%9C%9E&amp;pn=40&amp;oq=%E6%9D%A8%E7%91%9E%E9%9C%9E&amp;ie=utf-8&amp;usm=2&amp;rsv_idx=1&amp;rsv_pq=a04129b2001b30de&amp;rsv_t=7073xbHF4oNlwPm%2FYNYbVHgK5IfHjUrI6QT4212L1mS8vyZNmvbuirYWpVI\"><span class=\"fk\"><i class=\"c-icon c-icon-bear-pn\"/></span><span class=\"pc\">5</span></a><a href=\"/s?wd=%E6%9D%A8%E7%91%9E%E9%9C%9E&amp;pn=50&amp;oq=%E6%9D%A8%E7%91%9E%E9%9C%9E&amp;ie=utf-8&amp;usm=2&amp;rsv_idx=1&amp;rsv_pq=a04129b2001b30de&amp;rsv_t=7073xbHF4oNlwPm%2FYNYbVHgK5IfHjUrI6QT4212L1mS8vyZNmvbuirYWpVI\"><span class=\"fk fkd\"><i class=\"c-icon c-icon-bear-pn\"/></span><span class=\"pc\">6</span></a><a href=\"/s?wd=%E6%9D%A8%E7%91%9E%E9%9C%9E&amp;pn=60&amp;oq=%E6%9D%A8%E7%91%9E%E9%9C%9E&amp;ie=utf-8&amp;usm=2&amp;rsv_idx=1&amp;rsv_pq=a04129b2001b30de&amp;rsv_t=7073xbHF4oNlwPm%2FYNYbVHgK5IfHjUrI6QT4212L1mS8vyZNmvbuirYWpVI\"><span class=\"fk\"><i class=\"c-icon c-icon-bear-pn\"/></span><span class=\"pc\">7</span></a><a href=\"/s?wd=%E6%9D%A8%E7%91%9E%E9%9C%9E&amp;pn=70&amp;oq=%E6%9D%A8%E7%91%9E%E9%9C%9E&amp;ie=utf-8&amp;usm=2&amp;rsv_idx=1&amp;rsv_pq=a04129b2001b30de&amp;rsv_t=7073xbHF4oNlwPm%2FYNYbVHgK5IfHjUrI6QT4212L1mS8vyZNmvbuirYWpVI\"><span class=\"fk fkd\"><i class=\"c-icon c-icon-bear-pn\"/></span><span class=\"pc\">8</span></a><a href=\"/s?wd=%E6%9D%A8%E7%91%9E%E9%9C%9E&amp;pn=80&amp;oq=%E6%9D%A8%E7%91%9E%E9%9C%9E&amp;ie=utf-8&amp;usm=2&amp;rsv_idx=1&amp;rsv_pq=a04129b2001b30de&amp;rsv_t=7073xbHF4oNlwPm%2FYNYbVHgK5IfHjUrI6QT4212L1mS8vyZNmvbuirYWpVI\"><span class=\"fk\"><i class=\"c-icon c-icon-bear-pn\"/></span><span class=\"pc\">9</span></a><a href=\"/s?wd=%E6%9D%A8%E7%91%9E%E9%9C%9E&amp;pn=90&amp;oq=%E6%9D%A8%E7%91%9E%E9%9C%9E&amp;ie=utf-8&amp;usm=2&amp;rsv_idx=1&amp;rsv_pq=a04129b2001b30de&amp;rsv_t=7073xbHF4oNlwPm%2FYNYbVHgK5IfHjUrI6QT4212L1mS8vyZNmvbuirYWpVI\"><span class=\"fk fkd\"><i class=\"c-icon c-icon-bear-pn\"/></span><span class=\"pc\">10</span></a><a href=\"/s?wd=%E6%9D%A8%E7%91%9E%E9%9C%9E&amp;pn=10&amp;oq=%E6%9D%A8%E7%91%9E%E9%9C%9E&amp;ie=utf-8&amp;usm=2&amp;rsv_idx=1&amp;rsv_pq=a04129b2001b30de&amp;rsv_t=7073xbHF4oNlwPm%2FYNYbVHgK5IfHjUrI6QT4212L1mS8vyZNmvbuirYWpVI&amp;rsv_page=1\" class=\"n\">下一页&gt;</a>\n",
      "\n",
      "\n",
      "\n"
     ]
    }
   ],
   "source": [
    "print(lst2)"
   ]
  },
  {
   "cell_type": "code",
   "execution_count": 37,
   "metadata": {
    "scrolled": true
   },
   "outputs": [
    {
     "name": "stdout",
     "output_type": "stream",
     "text": [
      "<class 'generator'>\n",
      "<a href=\"/s?wd=%E6%9D%A8%E7%91%9E%E9%9C%9E&amp;pn=10&amp;oq=%E6%9D%A8%E7%91%9E%E9%9C%9E&amp;ie=utf-8&amp;usm=2&amp;rsv_idx=1&amp;rsv_pq=a04129b2001b30de&amp;rsv_t=7073xbHF4oNlwPm%2FYNYbVHgK5IfHjUrI6QT4212L1mS8vyZNmvbuirYWpVI\"><span class=\"fk fkd\"><i class=\"c-icon c-icon-bear-pn\"/></span><span class=\"pc\">2</span></a>\n",
      "<a href=\"/s?wd=%E6%9D%A8%E7%91%9E%E9%9C%9E&amp;pn=20&amp;oq=%E6%9D%A8%E7%91%9E%E9%9C%9E&amp;ie=utf-8&amp;usm=2&amp;rsv_idx=1&amp;rsv_pq=a04129b2001b30de&amp;rsv_t=7073xbHF4oNlwPm%2FYNYbVHgK5IfHjUrI6QT4212L1mS8vyZNmvbuirYWpVI\"><span class=\"fk\"><i class=\"c-icon c-icon-bear-pn\"/></span><span class=\"pc\">3</span></a>\n",
      "<a href=\"/s?wd=%E6%9D%A8%E7%91%9E%E9%9C%9E&amp;pn=30&amp;oq=%E6%9D%A8%E7%91%9E%E9%9C%9E&amp;ie=utf-8&amp;usm=2&amp;rsv_idx=1&amp;rsv_pq=a04129b2001b30de&amp;rsv_t=7073xbHF4oNlwPm%2FYNYbVHgK5IfHjUrI6QT4212L1mS8vyZNmvbuirYWpVI\"><span class=\"fk fkd\"><i class=\"c-icon c-icon-bear-pn\"/></span><span class=\"pc\">4</span></a>\n",
      "<a href=\"/s?wd=%E6%9D%A8%E7%91%9E%E9%9C%9E&amp;pn=40&amp;oq=%E6%9D%A8%E7%91%9E%E9%9C%9E&amp;ie=utf-8&amp;usm=2&amp;rsv_idx=1&amp;rsv_pq=a04129b2001b30de&amp;rsv_t=7073xbHF4oNlwPm%2FYNYbVHgK5IfHjUrI6QT4212L1mS8vyZNmvbuirYWpVI\"><span class=\"fk\"><i class=\"c-icon c-icon-bear-pn\"/></span><span class=\"pc\">5</span></a>\n",
      "<a href=\"/s?wd=%E6%9D%A8%E7%91%9E%E9%9C%9E&amp;pn=50&amp;oq=%E6%9D%A8%E7%91%9E%E9%9C%9E&amp;ie=utf-8&amp;usm=2&amp;rsv_idx=1&amp;rsv_pq=a04129b2001b30de&amp;rsv_t=7073xbHF4oNlwPm%2FYNYbVHgK5IfHjUrI6QT4212L1mS8vyZNmvbuirYWpVI\"><span class=\"fk fkd\"><i class=\"c-icon c-icon-bear-pn\"/></span><span class=\"pc\">6</span></a>\n",
      "<a href=\"/s?wd=%E6%9D%A8%E7%91%9E%E9%9C%9E&amp;pn=60&amp;oq=%E6%9D%A8%E7%91%9E%E9%9C%9E&amp;ie=utf-8&amp;usm=2&amp;rsv_idx=1&amp;rsv_pq=a04129b2001b30de&amp;rsv_t=7073xbHF4oNlwPm%2FYNYbVHgK5IfHjUrI6QT4212L1mS8vyZNmvbuirYWpVI\"><span class=\"fk\"><i class=\"c-icon c-icon-bear-pn\"/></span><span class=\"pc\">7</span></a>\n",
      "<a href=\"/s?wd=%E6%9D%A8%E7%91%9E%E9%9C%9E&amp;pn=70&amp;oq=%E6%9D%A8%E7%91%9E%E9%9C%9E&amp;ie=utf-8&amp;usm=2&amp;rsv_idx=1&amp;rsv_pq=a04129b2001b30de&amp;rsv_t=7073xbHF4oNlwPm%2FYNYbVHgK5IfHjUrI6QT4212L1mS8vyZNmvbuirYWpVI\"><span class=\"fk fkd\"><i class=\"c-icon c-icon-bear-pn\"/></span><span class=\"pc\">8</span></a>\n",
      "<a href=\"/s?wd=%E6%9D%A8%E7%91%9E%E9%9C%9E&amp;pn=80&amp;oq=%E6%9D%A8%E7%91%9E%E9%9C%9E&amp;ie=utf-8&amp;usm=2&amp;rsv_idx=1&amp;rsv_pq=a04129b2001b30de&amp;rsv_t=7073xbHF4oNlwPm%2FYNYbVHgK5IfHjUrI6QT4212L1mS8vyZNmvbuirYWpVI\"><span class=\"fk\"><i class=\"c-icon c-icon-bear-pn\"/></span><span class=\"pc\">9</span></a>\n",
      "<a href=\"/s?wd=%E6%9D%A8%E7%91%9E%E9%9C%9E&amp;pn=90&amp;oq=%E6%9D%A8%E7%91%9E%E9%9C%9E&amp;ie=utf-8&amp;usm=2&amp;rsv_idx=1&amp;rsv_pq=a04129b2001b30de&amp;rsv_t=7073xbHF4oNlwPm%2FYNYbVHgK5IfHjUrI6QT4212L1mS8vyZNmvbuirYWpVI\"><span class=\"fk fkd\"><i class=\"c-icon c-icon-bear-pn\"/></span><span class=\"pc\">10</span></a>\n",
      "<a href=\"/s?wd=%E6%9D%A8%E7%91%9E%E9%9C%9E&amp;pn=10&amp;oq=%E6%9D%A8%E7%91%9E%E9%9C%9E&amp;ie=utf-8&amp;usm=2&amp;rsv_idx=1&amp;rsv_pq=a04129b2001b30de&amp;rsv_t=7073xbHF4oNlwPm%2FYNYbVHgK5IfHjUrI6QT4212L1mS8vyZNmvbuirYWpVI&amp;rsv_page=1\" class=\"n\">下一页&gt;</a>\n",
      "\n",
      "\n",
      "\n"
     ]
    }
   ],
   "source": [
    "lis2 = doc('#page a').items()#.items会是一个生成器\n",
    "print(type(lis2))\n",
    "for li in lis2:\n",
    "    print(li)"
   ]
  },
  {
   "cell_type": "markdown",
   "metadata": {},
   "source": []
  }
 ],
 "metadata": {
  "kernelspec": {
   "display_name": "Python 3",
   "language": "python",
   "name": "python3"
  },
  "language_info": {
   "codemirror_mode": {
    "name": "ipython",
    "version": 3
   },
   "file_extension": ".py",
   "mimetype": "text/x-python",
   "name": "python",
   "nbconvert_exporter": "python",
   "pygments_lexer": "ipython3",
   "version": "3.7.4"
  }
 },
 "nbformat": 4,
 "nbformat_minor": 2
}
