{
 "cells": [
  {
   "cell_type": "code",
   "execution_count": 14,
   "metadata": {},
   "outputs": [],
   "source": [
    "lst1 = ['A','a']\n",
    "lst2 = tuple(lst1)"
   ]
  },
  {
   "cell_type": "code",
   "execution_count": 15,
   "metadata": {},
   "outputs": [
    {
     "data": {
      "text/plain": [
       "('A', 'a')"
      ]
     },
     "execution_count": 15,
     "metadata": {},
     "output_type": "execute_result"
    }
   ],
   "source": [
    "lst2"
   ]
  },
  {
   "cell_type": "code",
   "execution_count": 3,
   "metadata": {},
   "outputs": [],
   "source": [
    "lst5=[]"
   ]
  },
  {
   "cell_type": "code",
   "execution_count": 4,
   "metadata": {},
   "outputs": [],
   "source": [
    "for i in range(26):\n",
    "    lst1=[chr(ord('A')+i),chr(ord('a')+i)]\n",
    "    lst2=tuple(lst1)\n",
    "    lst5.append(lst2)"
   ]
  },
  {
   "cell_type": "code",
   "execution_count": 5,
   "metadata": {},
   "outputs": [
    {
     "data": {
      "text/plain": [
       "[('A', 'a'),\n",
       " ('B', 'b'),\n",
       " ('C', 'c'),\n",
       " ('D', 'd'),\n",
       " ('E', 'e'),\n",
       " ('F', 'f'),\n",
       " ('G', 'g'),\n",
       " ('H', 'h'),\n",
       " ('I', 'i'),\n",
       " ('J', 'j'),\n",
       " ('K', 'k'),\n",
       " ('L', 'l'),\n",
       " ('M', 'm'),\n",
       " ('N', 'n'),\n",
       " ('O', 'o'),\n",
       " ('P', 'p'),\n",
       " ('Q', 'q'),\n",
       " ('R', 'r'),\n",
       " ('S', 's'),\n",
       " ('T', 't'),\n",
       " ('U', 'u'),\n",
       " ('V', 'v'),\n",
       " ('W', 'w'),\n",
       " ('X', 'x'),\n",
       " ('Y', 'y'),\n",
       " ('Z', 'z')]"
      ]
     },
     "execution_count": 5,
     "metadata": {},
     "output_type": "execute_result"
    }
   ],
   "source": [
    "lst5"
   ]
  },
  {
   "cell_type": "code",
   "execution_count": 6,
   "metadata": {},
   "outputs": [
    {
     "name": "stdout",
     "output_type": "stream",
     "text": [
      "A - a\n",
      "B - b\n",
      "C - c\n",
      "D - d\n",
      "E - e\n",
      "F - f\n",
      "G - g\n",
      "H - h\n",
      "I - i\n",
      "J - j\n",
      "K - k\n",
      "L - l\n",
      "M - m\n",
      "N - n\n",
      "O - o\n",
      "P - p\n",
      "Q - q\n",
      "R - r\n",
      "S - s\n",
      "T - t\n",
      "U - u\n",
      "V - v\n",
      "W - w\n",
      "X - x\n",
      "Y - y\n",
      "Z - z\n"
     ]
    }
   ],
   "source": [
    "for j in range(26):\n",
    "    print(lst5[j][0],'-',lst5[j][1])"
   ]
  },
  {
   "cell_type": "code",
   "execution_count": null,
   "metadata": {},
   "outputs": [],
   "source": []
  }
 ],
 "metadata": {
  "kernelspec": {
   "display_name": "Python 3",
   "language": "python",
   "name": "python3"
  },
  "language_info": {
   "codemirror_mode": {
    "name": "ipython",
    "version": 3
   },
   "file_extension": ".py",
   "mimetype": "text/x-python",
   "name": "python",
   "nbconvert_exporter": "python",
   "pygments_lexer": "ipython3",
   "version": "3.7.4"
  }
 },
 "nbformat": 4,
 "nbformat_minor": 2
}
