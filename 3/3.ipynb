{
 "cells": [
  {
   "cell_type": "code",
   "execution_count": 24,
   "metadata": {},
   "outputs": [
    {
     "name": "stdout",
     "output_type": "stream",
     "text": [
      "正方形的面积是： 9\n",
      "长方形的面积是： 12\n",
      "圆的面积是： 78.53981633974483\n",
      "三角形的面积是： 6.0\n",
      "正方体的表面积是： 150\n",
      "正方体的表面积是： 48\n",
      "圆柱的表面积是： 131.94689145077132\n",
      "球的表面积是： 314.1592653589793\n",
      "正方体的体积是： 125\n",
      "正方体的体积是： 60\n",
      "圆柱的体积是： 113.09733552923255\n",
      "球的体积是： 523.5987755982989\n"
     ]
    }
   ],
   "source": [
    "from geometry.area.square import square\n",
    "from geometry.area.rectangle import rectangle\n",
    "from geometry.area.circle import circle\n",
    "from geometry.area.triangle import triangle\n",
    "\n",
    "from geometry.surface_area.cube import cube_sur\n",
    "from geometry.surface_area.cuboid import cuboid_sur\n",
    "from geometry.surface_area.cylinder import cylinder_sur\n",
    "from geometry.surface_area.sphere import sphere_sur\n",
    "\n",
    "from geometry.volume.cube import cube_vol\n",
    "from geometry.volume.cuboid import cuboid_vol\n",
    "from geometry.volume.cylinder import cylinder_vol\n",
    "from geometry.volume.sphere import sphere_vol\n",
    "\n",
    "\n",
    "print(\"正方形的面积是：\",square(3))\n",
    "print(\"长方形的面积是：\",rectangle(3,4))\n",
    "print(\"圆的面积是：\",circle(5))\n",
    "print(\"三角形的面积是：\",triangle(3,4))\n",
    "print(\"正方体的表面积是：\",cube_sur(5))\n",
    "print(\"正方体的表面积是：\",cuboid_sur(3,4,5))\n",
    "print(\"圆柱的表面积是：\",cylinder_sur(3,4))\n",
    "print(\"球的表面积是：\",sphere_sur(5))\n",
    "print(\"正方体的体积是：\",cube_vol(5))\n",
    "print(\"正方体的体积是：\",cuboid_vol(3,4,5))\n",
    "print(\"圆柱的体积是：\",cylinder_vol(3,4))\n",
    "print(\"球的体积是：\",sphere_vol(5))\n",
    "\n"
   ]
  },
  {
   "cell_type": "code",
   "execution_count": null,
   "metadata": {},
   "outputs": [],
   "source": []
  }
 ],
 "metadata": {
  "kernelspec": {
   "display_name": "Python 3",
   "language": "python",
   "name": "python3"
  },
  "language_info": {
   "codemirror_mode": {
    "name": "ipython",
    "version": 3
   },
   "file_extension": ".py",
   "mimetype": "text/x-python",
   "name": "python",
   "nbconvert_exporter": "python",
   "pygments_lexer": "ipython3",
   "version": "3.7.4"
  }
 },
 "nbformat": 4,
 "nbformat_minor": 2
}
